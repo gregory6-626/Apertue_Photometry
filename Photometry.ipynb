{
  "cells": [
    {
      "cell_type": "markdown",
      "metadata": {
        "id": "view-in-github",
        "colab_type": "text"
      },
      "source": [
        "<a href=\"https://colab.research.google.com/github/gregory6-626/Telescopes-and-Photometry/blob/main/Photometry.ipynb\" target=\"_parent\"><img src=\"https://colab.research.google.com/assets/colab-badge.svg\" alt=\"Open In Colab\"/></a>"
      ]
    },
    {
      "cell_type": "markdown",
      "metadata": {
        "id": "feec88c3"
      },
      "source": [
        "#  1.Import necessary modules"
      ],
      "id": "feec88c3"
    },
    {
      "cell_type": "code",
      "execution_count": null,
      "metadata": {
        "id": "4as13wOrmbUF"
      },
      "outputs": [],
      "source": [
        "pip install gdown"
      ],
      "id": "4as13wOrmbUF"
    },
    {
      "cell_type": "code",
      "execution_count": null,
      "metadata": {
        "id": "gD8BPCo9mexr"
      },
      "outputs": [],
      "source": [
        "pip install photutils"
      ],
      "id": "gD8BPCo9mexr"
    },
    {
      "cell_type": "code",
      "execution_count": null,
      "metadata": {
        "id": "-Prp2DStl75Y"
      },
      "outputs": [],
      "source": [
        "from astropy.io import fits\n",
        "import matplotlib.pyplot as plt\n",
        "from astropy.visualization import astropy_mpl_style\n",
        "from astropy.wcs import WCS\n",
        "import pandas as pd\n",
        "from photutils.detection import DAOStarFinder\n",
        "from photutils.aperture import aperture_photometry, CircularAperture, CircularAnnulus\n",
        "from astropy.stats import mad_std\n",
        "from astropy.visualization import simple_norm\n",
        "import matplotlib.patches as patches\n",
        "from astropy.stats import sigma_clipped_stats\n",
        "plt.style.use(astropy_mpl_style)\n",
        "from photutils.aperture import ApertureStats\n",
        "import numpy as np\n",
        "import gdown"
      ],
      "id": "-Prp2DStl75Y"
    },
    {
      "cell_type": "markdown",
      "metadata": {
        "id": "4a14a749"
      },
      "source": [
        "#  2.Load & Display the image file"
      ],
      "id": "4a14a749"
    },
    {
      "cell_type": "code",
      "execution_count": null,
      "metadata": {
        "id": "b09f75be"
      },
      "outputs": [],
      "source": [
        "\n",
        "\n",
        "file_id = '1_Cm1B82WMI48rRnZtDzAllkH0fU5n7og'\n",
        "url = f'https://drive.google.com/uc?id={file_id}'\n",
        "\n",
        "# Download the file\n",
        "output = 'image_file.fits'  # Provide a local file name for the downloaded FITS file\n",
        "gdown.download(url, output, quiet=False)"
      ],
      "id": "b09f75be"
    },
    {
      "cell_type": "code",
      "execution_count": null,
      "metadata": {
        "id": "HWSJ_QA0mIjz"
      },
      "outputs": [],
      "source": [
        "image_file =fits.open('image_file.fits') # here I have given the JWST NIRCAM F335 image of Carina Nebula\n",
        "image_file.info()"
      ],
      "id": "HWSJ_QA0mIjz"
    },
    {
      "cell_type": "code",
      "execution_count": null,
      "metadata": {
        "id": "1db78661"
      },
      "outputs": [],
      "source": [
        "header=image_file[0].header\n",
        "image=image_file[0].data"
      ],
      "id": "1db78661"
    },
    {
      "cell_type": "code",
      "execution_count": null,
      "metadata": {
        "colab": {
          "background_save": true
        },
        "id": "643d6cc9",
        "scrolled": true
      },
      "outputs": [],
      "source": [
        "# show the image\n",
        "fig, ax = plt.subplots(figsize=(40,25))\n",
        "norm = simple_norm(image, 'sqrt', percent=99.5)\n",
        "ax.tick_params(axis='x', labelsize=40)\n",
        "ax.tick_params(axis='y', labelsize=40)\n",
        "ax.set_title(\"NGC 3324(Carina Nebula)- JWST NIRCam F335\",size=40)\n",
        "ax.imshow(image,norm=norm,interpolation='nearest')\n",
        "ax.add_patch(rect)\n",
        "ax.invert_yaxis()\n",
        "plt.grid(False)"
      ],
      "id": "643d6cc9"
    },
    {
      "cell_type": "markdown",
      "metadata": {
        "id": "6afd25cd"
      },
      "source": [
        "## 2.1 Select the Region of interest (ROI)"
      ],
      "id": "6afd25cd"
    },
    {
      "cell_type": "code",
      "source": [
        "x1=                        # give the desired x and y coordinates\n",
        "x2=\n",
        "y1=\n",
        "y2="
      ],
      "metadata": {
        "id": "rWpMWJhrH7G0"
      },
      "id": "rWpMWJhrH7G0",
      "execution_count": null,
      "outputs": []
    },
    {
      "cell_type": "code",
      "source": [
        "roi=image[y1:y2,x1:x2] # select the region"
      ],
      "metadata": {
        "id": "GtVwEb30H6zK"
      },
      "id": "GtVwEb30H6zK",
      "execution_count": null,
      "outputs": []
    },
    {
      "cell_type": "code",
      "source": [
        "fig, ax = plt.subplots(figsize=(40,25))\n",
        "norm = simple_norm(image, 'sqrt', percent=99.5)\n",
        "rect=patches.Rectangle((x1,y1),x2-x1,y2-y1,linewidth=5,edgecolor='b',facecolor='none')\n",
        "ax.tick_params(axis='x', labelsize=40)\n",
        "ax.tick_params(axis='y', labelsize=40)\n",
        "ax.set_title(\"NGC 3324(Carina Nebula)- JWST NIRCam F335\",size=40)\n",
        "ax.imshow(image,norm=norm,interpolation='nearest')\n",
        "ax.add_patch(rect)\n",
        "ax.invert_yaxis()\n",
        "plt.grid(False)"
      ],
      "metadata": {
        "id": "JgUTCq6SIP2v"
      },
      "id": "JgUTCq6SIP2v",
      "execution_count": null,
      "outputs": []
    },
    {
      "cell_type": "code",
      "execution_count": null,
      "metadata": {
        "id": "0a92346b"
      },
      "outputs": [],
      "source": [
        "plt.figure(figsize=(10,10)) #show the region\n",
        "plt.imshow(roi,norm=norm)\n",
        "plt.gca().invert_yaxis()\n",
        "plt.grid(False)"
      ],
      "id": "0a92346b"
    },
    {
      "cell_type": "markdown",
      "metadata": {
        "id": "1e37f300"
      },
      "source": [
        "# 3.Background subtraction"
      ],
      "id": "1e37f300"
    },
    {
      "cell_type": "code",
      "execution_count": null,
      "metadata": {
        "id": "2f3a6004"
      },
      "outputs": [],
      "source": [
        "mean, median, std = sigma_clipped_stats(roi, sigma=3.0, cenfunc='median', stdfunc='std')\n",
        "print(median,std)\n",
        "corrected_roi=roi-median # subtract the median\n",
        "plt.figure(figsize=(10,10)) #show the background subtracted image\n",
        "plt.imshow(corrected_roi,norm=norm)\n",
        "plt.gca().invert_yaxis()\n",
        "plt.grid(False)\n"
      ],
      "id": "2f3a6004"
    },
    {
      "cell_type": "markdown",
      "metadata": {
        "id": "65ef005d"
      },
      "source": [
        "# 4.Identify the Sources"
      ],
      "id": "65ef005d"
    },
    {
      "cell_type": "code",
      "execution_count": null,
      "metadata": {
        "id": "1b24b921"
      },
      "outputs": [],
      "source": [
        "daofind = DAOStarFinder(fwhm=3, threshold=5*std) # you can change the fwhm and threshold limits\n",
        "sources = daofind(corrected_roi)\n",
        "for col in sources.colnames:\n",
        "\tsources[col].info.format = '%.9g'\n",
        "print(sources)\n"
      ],
      "id": "1b24b921"
    },
    {
      "cell_type": "code",
      "execution_count": null,
      "metadata": {
        "id": "84084546"
      },
      "outputs": [],
      "source": [
        "position = [(x, y) for x, y in zip(sources['xcentroid'], sources['ycentroid'])]\n",
        "apertures = CircularAperture(position, r=9) # put the aperture around the sources, you can change the radius(preferably radius > 3*fwhm)"
      ],
      "id": "84084546"
    },
    {
      "cell_type": "code",
      "execution_count": null,
      "metadata": {
        "id": "c6304501"
      },
      "outputs": [],
      "source": [
        "# Display the identified sources\n",
        "plt.figure(figsize=(10,10))\n",
        "plt.imshow(corrected_roi, norm=norm, interpolation='nearest')\n",
        "ap_patch = apertures.plot(color='white', lw=1.5,\n",
        "                           label='Photometry aperture')\n",
        "plt.gca().invert_yaxis()\n",
        "plt.grid(False)\n"
      ],
      "id": "c6304501"
    },
    {
      "cell_type": "markdown",
      "metadata": {
        "id": "86bd968d"
      },
      "source": [
        "#  5.Performing Aperture Photometry"
      ],
      "id": "86bd968d"
    },
    {
      "cell_type": "code",
      "execution_count": null,
      "metadata": {
        "id": "f9cf36e4"
      },
      "outputs": [],
      "source": [
        "phot_table = aperture_photometry(corrected_roi, apertures) # performing photometry\n",
        "for col in phot_table.colnames:\n",
        "    phot_table[col].info.format = '%.8g'  # for consistent table output\n",
        "print(phot_table)"
      ],
      "id": "f9cf36e4"
    },
    {
      "cell_type": "markdown",
      "metadata": {
        "id": "9d773aff"
      },
      "source": [
        "## 5.1 Fitting annulus(to remove background fluxes)"
      ],
      "id": "9d773aff"
    },
    {
      "cell_type": "code",
      "execution_count": null,
      "metadata": {
        "id": "79a9550a"
      },
      "outputs": [],
      "source": [
        "annulus_aperture = CircularAnnulus(position, r_in=12, r_out=15) # putting the annulus , you can change r_in & r_out"
      ],
      "id": "79a9550a"
    },
    {
      "cell_type": "code",
      "execution_count": null,
      "metadata": {
        "id": "d1b5872c",
        "scrolled": true
      },
      "outputs": [],
      "source": [
        "#to show the annular ring and aperture along with the source\n",
        "plt.figure(figsize=(5,5))\n",
        "plt.imshow(corrected_roi,norm=norm, interpolation='nearest')\n",
        "ap_patch = apertures.plot(color='white', lw=2)\n",
        "ann_patches = annulus_aperture.plot(color='blue', lw=2)\n",
        "#plt.ylim(43,100) #give as you need and remove the hash(#)\n",
        "#plt.xlim(0, 100)\n",
        "plt.grid(False)"
      ],
      "id": "d1b5872c"
    },
    {
      "cell_type": "code",
      "execution_count": null,
      "metadata": {
        "id": "f8b104b3"
      },
      "outputs": [],
      "source": [
        "aperstats = ApertureStats(corrected_roi, annulus_aperture) #calculating the mean flux of the each aperture\n",
        "bkg_mean = aperstats.mean\n",
        "print(bkg_mean)"
      ],
      "id": "f8b104b3"
    },
    {
      "cell_type": "markdown",
      "metadata": {
        "id": "cfb02456"
      },
      "source": [
        "## 5.2 Correcting Aperture Sum"
      ],
      "id": "cfb02456"
    },
    {
      "cell_type": "code",
      "execution_count": null,
      "metadata": {
        "id": "a7e23061"
      },
      "outputs": [],
      "source": [
        "area=apertures.area # calculate the area of each aperture"
      ],
      "id": "a7e23061"
    },
    {
      "cell_type": "code",
      "execution_count": null,
      "metadata": {
        "id": "15232230"
      },
      "outputs": [],
      "source": [
        "total_bkg = bkg_mean * area # calculate the bkg flux inside that area"
      ],
      "id": "15232230"
    },
    {
      "cell_type": "code",
      "execution_count": null,
      "metadata": {
        "id": "6afeb24a"
      },
      "outputs": [],
      "source": [
        "corrected_sum=phot_table['aperture_sum'] - total_bkg"
      ],
      "id": "6afeb24a"
    },
    {
      "cell_type": "code",
      "execution_count": null,
      "metadata": {
        "id": "562784f3"
      },
      "outputs": [],
      "source": [
        "phot_table['Corrected_sum']=corrected_sum"
      ],
      "id": "562784f3"
    },
    {
      "cell_type": "code",
      "execution_count": null,
      "metadata": {
        "id": "2425fb0a",
        "scrolled": true
      },
      "outputs": [],
      "source": [
        "phot_table"
      ],
      "id": "2425fb0a"
    },
    {
      "cell_type": "markdown",
      "metadata": {
        "id": "3c34f5b3"
      },
      "source": [
        "# 6 Converting x,y coordinates into RA & DEC"
      ],
      "id": "3c34f5b3"
    },
    {
      "cell_type": "code",
      "execution_count": null,
      "metadata": {
        "id": "b45861fa"
      },
      "outputs": [],
      "source": [
        "df=phot_table.to_pandas() # for easier calculation"
      ],
      "id": "b45861fa"
    },
    {
      "cell_type": "code",
      "execution_count": null,
      "metadata": {
        "id": "ccd687e3"
      },
      "outputs": [],
      "source": [
        "df=df[df['Corrected_sum']>0] # to remove negative sum"
      ],
      "id": "ccd687e3"
    },
    {
      "cell_type": "code",
      "execution_count": null,
      "metadata": {
        "id": "efc17674"
      },
      "outputs": [],
      "source": [
        "df['X']=df['xcenter']+x1  #to get the original coordinates\n",
        "df['Y']=df['ycenter']+y1"
      ],
      "id": "efc17674"
    },
    {
      "cell_type": "code",
      "execution_count": null,
      "metadata": {
        "id": "8795d486",
        "scrolled": true
      },
      "outputs": [],
      "source": [
        "wcs=WCS(image_file[0].header)"
      ],
      "id": "8795d486"
    },
    {
      "cell_type": "code",
      "execution_count": null,
      "metadata": {
        "id": "e3ccb0ec"
      },
      "outputs": [],
      "source": [
        "x,y=wcs.pixel_to_world_values(df['X'],df['Y'])"
      ],
      "id": "e3ccb0ec"
    },
    {
      "cell_type": "code",
      "execution_count": null,
      "metadata": {
        "id": "27d11123"
      },
      "outputs": [],
      "source": [
        "df['RA']=x\n",
        "df['DEC']=y"
      ],
      "id": "27d11123"
    },
    {
      "cell_type": "code",
      "execution_count": null,
      "metadata": {
        "id": "63b63ddb",
        "scrolled": true
      },
      "outputs": [],
      "source": [
        "plt.scatter(df['RA'],df['DEC'])\n",
        "plt.xlabel('RA')\n",
        "plt.ylabel('DEC')\n",
        "plt.gca().invert_xaxis()"
      ],
      "id": "63b63ddb"
    },
    {
      "cell_type": "markdown",
      "metadata": {
        "id": "45708190"
      },
      "source": [
        "# 7.Conversion of flux into magnitudes"
      ],
      "id": "45708190"
    },
    {
      "cell_type": "code",
      "execution_count": null,
      "metadata": {
        "id": "6d117540"
      },
      "outputs": [],
      "source": [
        "df['magVega']= (-2.5*(np.log10(df['Corrected_sum']/header['PHOTMJSR'])))+23.93 # for JWST NIRCAM F335, Zero Point = 23.93 ; change the Z.P according to your data"
      ],
      "id": "6d117540"
    },
    {
      "cell_type": "code",
      "execution_count": null,
      "metadata": {
        "id": "f9a933a4"
      },
      "outputs": [],
      "source": [
        "plt.hist(df['magVega'])"
      ],
      "id": "f9a933a4"
    },
    {
      "cell_type": "code",
      "execution_count": null,
      "metadata": {
        "id": "0c0421c9"
      },
      "outputs": [],
      "source": [],
      "id": "0c0421c9"
    }
  ],
  "metadata": {
    "colab": {
      "provenance": [],
      "toc_visible": true,
      "include_colab_link": true
    },
    "kernelspec": {
      "display_name": "Python 3 (ipykernel)",
      "language": "python",
      "name": "python3"
    },
    "language_info": {
      "codemirror_mode": {
        "name": "ipython",
        "version": 3
      },
      "file_extension": ".py",
      "mimetype": "text/x-python",
      "name": "python",
      "nbconvert_exporter": "python",
      "pygments_lexer": "ipython3",
      "version": "3.8.10"
    }
  },
  "nbformat": 4,
  "nbformat_minor": 5
}