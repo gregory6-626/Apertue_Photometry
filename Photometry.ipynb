{
 "cells": [
  {
   "cell_type": "markdown",
   "id": "feec88c3",
   "metadata": {},
   "source": [
    "#  1.Import necessary modules"
   ]
  },
  {
   "cell_type": "code",
   "execution_count": null,
   "id": "b2192f48",
   "metadata": {},
   "outputs": [],
   "source": [
    "from astropy.io import fits\n",
    "import matplotlib.pyplot as plt\n",
    "from astropy.visualization import astropy_mpl_style\n",
    "from astropy.wcs import WCS \n",
    "import pandas as pd\n",
    "from photutils.detection import DAOStarFinder\n",
    "from photutils.aperture import aperture_photometry, CircularAperture, CircularAnnulus\n",
    "from astropy.stats import mad_std\n",
    "from astropy.visualization import simple_norm\n",
    "import matplotlib.patches as patches\n",
    "from astropy.stats import sigma_clipped_stats\n",
    "plt.style.use(astropy_mpl_style)\n",
    "from photutils.aperture import ApertureStats\n",
    "import numpy as np"
   ]
  },
  {
   "cell_type": "markdown",
   "id": "4a14a749",
   "metadata": {},
   "source": [
    "#  2.Load & Display the image file"
   ]
  },
  {
   "cell_type": "code",
   "execution_count": null,
   "id": "b09f75be",
   "metadata": {},
   "outputs": [],
   "source": [
    "image_file =fits.open('/home/gregg/Desktop/COSMOS/carina_sci.fits') # give your location\n",
    "image_file.info()"
   ]
  },
  {
   "cell_type": "code",
   "execution_count": null,
   "id": "1db78661",
   "metadata": {},
   "outputs": [],
   "source": [
    "header=image_file[0].header\n",
    "image=image_file[0].data"
   ]
  },
  {
   "cell_type": "code",
   "execution_count": null,
   "id": "643d6cc9",
   "metadata": {
    "scrolled": true
   },
   "outputs": [],
   "source": [
    "fig, ax = plt.subplots(figsize=(40,25))\n",
    "norm = simple_norm(image, 'sqrt', percent=99.5)\n",
    "rect=patches.Rectangle((216,341),1161,758,linewidth=5,edgecolor='b',facecolor='none')\n",
    "ax.tick_params(axis='x', labelsize=40)\n",
    "ax.tick_params(axis='y', labelsize=40)\n",
    "ax.set_title(\"NGC 3324(Carina Nebula)- JWST NIRCam F335\",size=40)\n",
    "ax.imshow(image,norm=norm,interpolation='nearest')\n",
    "ax.add_patch(rect)\n",
    "ax.invert_yaxis()\n",
    "plt.grid(False)"
   ]
  },
  {
   "cell_type": "markdown",
   "id": "6afd25cd",
   "metadata": {},
   "source": [
    "## 2.1 Select the Region of interest (ROI)"
   ]
  },
  {
   "cell_type": "code",
   "execution_count": null,
   "id": "1eb5865d",
   "metadata": {},
   "outputs": [],
   "source": [
    "roi=image[341:1099,216:1377] #give the coordinates"
   ]
  },
  {
   "cell_type": "code",
   "execution_count": null,
   "id": "0a92346b",
   "metadata": {},
   "outputs": [],
   "source": [
    "plt.figure(figsize=(10,10)) #show the region\n",
    "plt.imshow(roi,norm=norm)\n",
    "plt.gca().invert_yaxis()\n",
    "plt.grid(False)"
   ]
  },
  {
   "cell_type": "markdown",
   "id": "1e37f300",
   "metadata": {},
   "source": [
    "# 3.Background subtraction"
   ]
  },
  {
   "cell_type": "code",
   "execution_count": null,
   "id": "2f3a6004",
   "metadata": {},
   "outputs": [],
   "source": [
    "mean, median, std = sigma_clipped_stats(roi, sigma=3.0, cenfunc='median', stdfunc='std') \n",
    "print(median,std)\n",
    "corrected_roi=roi-median # subtract the median\n",
    "plt.figure(figsize=(10,10)) #show the background subtracted image\n",
    "plt.imshow(corrected_roi,norm=norm)\n",
    "plt.gca().invert_yaxis()\n",
    "plt.grid(False)\n"
   ]
  },
  {
   "cell_type": "markdown",
   "id": "65ef005d",
   "metadata": {},
   "source": [
    "# 4.Identify the Sources"
   ]
  },
  {
   "cell_type": "code",
   "execution_count": null,
   "id": "1b24b921",
   "metadata": {},
   "outputs": [],
   "source": [
    "daofind = DAOStarFinder(fwhm=3, threshold=5*std)\n",
    "sources = daofind(corrected_roi)\n",
    "for col in sources.colnames:\n",
    "\tsources[col].info.format = '%.9g'\n",
    "print(sources)\n"
   ]
  },
  {
   "cell_type": "code",
   "execution_count": null,
   "id": "84084546",
   "metadata": {},
   "outputs": [],
   "source": [
    "position = [(x, y) for x, y in zip(sources['xcentroid'], sources['ycentroid'])]\n",
    "apertures = CircularAperture(position, r=9) # put aperture around the sources"
   ]
  },
  {
   "cell_type": "code",
   "execution_count": null,
   "id": "c6304501",
   "metadata": {},
   "outputs": [],
   "source": [
    "# Display the identified sources\n",
    "plt.figure(figsize=(10,10))\n",
    "plt.imshow(corrected_roi, norm=norm, interpolation='nearest')\n",
    "ap_patch = apertures.plot(color='white', lw=1.5,\n",
    "                           label='Photometry aperture')\n",
    "plt.gca().invert_yaxis()\n",
    "plt.grid(False)\n"
   ]
  },
  {
   "cell_type": "markdown",
   "id": "86bd968d",
   "metadata": {},
   "source": [
    "#  5.Performing Aperture Photometry"
   ]
  },
  {
   "cell_type": "code",
   "execution_count": null,
   "id": "f9cf36e4",
   "metadata": {},
   "outputs": [],
   "source": [
    "phot_table = aperture_photometry(corrected_roi, apertures) # performing photometry\n",
    "for col in phot_table.colnames:\n",
    "    phot_table[col].info.format = '%.8g'  # for consistent table output\n",
    "print(phot_table)"
   ]
  },
  {
   "cell_type": "markdown",
   "id": "9d773aff",
   "metadata": {},
   "source": [
    "## 5.1 Fitting annulus(to remove background fluxes)"
   ]
  },
  {
   "cell_type": "code",
   "execution_count": null,
   "id": "79a9550a",
   "metadata": {},
   "outputs": [],
   "source": [
    "annulus_aperture = CircularAnnulus(position, r_in=12, r_out=15) # putting the annulus"
   ]
  },
  {
   "cell_type": "code",
   "execution_count": null,
   "id": "d1b5872c",
   "metadata": {
    "scrolled": true
   },
   "outputs": [],
   "source": [
    "plt.figure(figsize=(5,5))\n",
    "plt.imshow(corrected_roi,norm=norm, interpolation='nearest')\n",
    "ap_patch = apertures.plot(color='white', lw=2)\n",
    "ann_patches = annulus_aperture.plot(color='blue', lw=2)\n",
    "plt.ylim(43,100)\n",
    "plt.xlim(0, 100)\n",
    "plt.grid(False)"
   ]
  },
  {
   "cell_type": "code",
   "execution_count": null,
   "id": "f8b104b3",
   "metadata": {},
   "outputs": [],
   "source": [
    "aperstats = ApertureStats(corrected_roi, annulus_aperture) #calculating the mean flux of the each aperture\n",
    "bkg_mean = aperstats.mean\n",
    "print(bkg_mean)  "
   ]
  },
  {
   "cell_type": "markdown",
   "id": "cfb02456",
   "metadata": {},
   "source": [
    "## 5.2 Correcting Aperture Sum"
   ]
  },
  {
   "cell_type": "code",
   "execution_count": null,
   "id": "a7e23061",
   "metadata": {},
   "outputs": [],
   "source": [
    "area=apertures.area # calculate the area of each aperture"
   ]
  },
  {
   "cell_type": "code",
   "execution_count": null,
   "id": "15232230",
   "metadata": {},
   "outputs": [],
   "source": [
    "total_bkg = bkg_mean * area # calculate the bkg flux inside that area"
   ]
  },
  {
   "cell_type": "code",
   "execution_count": null,
   "id": "6afeb24a",
   "metadata": {},
   "outputs": [],
   "source": [
    "corrected_sum=phot_table['aperture_sum'] - total_bkg"
   ]
  },
  {
   "cell_type": "code",
   "execution_count": null,
   "id": "562784f3",
   "metadata": {},
   "outputs": [],
   "source": [
    "phot_table['Corrected_sum']=corrected_sum"
   ]
  },
  {
   "cell_type": "code",
   "execution_count": null,
   "id": "2425fb0a",
   "metadata": {
    "scrolled": true
   },
   "outputs": [],
   "source": [
    "phot_table"
   ]
  },
  {
   "cell_type": "markdown",
   "id": "3c34f5b3",
   "metadata": {},
   "source": [
    "# 6 Converting x,y coordinates into RA & DEC"
   ]
  },
  {
   "cell_type": "code",
   "execution_count": null,
   "id": "b45861fa",
   "metadata": {},
   "outputs": [],
   "source": [
    "df=phot_table.to_pandas() # for easier calculation"
   ]
  },
  {
   "cell_type": "code",
   "execution_count": null,
   "id": "ccd687e3",
   "metadata": {},
   "outputs": [],
   "source": [
    "df=df[df['Corrected_sum']>0]"
   ]
  },
  {
   "cell_type": "code",
   "execution_count": null,
   "id": "efc17674",
   "metadata": {},
   "outputs": [],
   "source": [
    "df['X']=df['xcenter']+216\n",
    "df['Y']=df['ycenter']+341"
   ]
  },
  {
   "cell_type": "code",
   "execution_count": null,
   "id": "8795d486",
   "metadata": {
    "scrolled": true
   },
   "outputs": [],
   "source": [
    "wcs=WCS(image_file[0].header)"
   ]
  },
  {
   "cell_type": "code",
   "execution_count": null,
   "id": "e3ccb0ec",
   "metadata": {},
   "outputs": [],
   "source": [
    "x,y=wcs.pixel_to_world_values(df['X'],df['Y'])"
   ]
  },
  {
   "cell_type": "code",
   "execution_count": null,
   "id": "27d11123",
   "metadata": {},
   "outputs": [],
   "source": [
    "df['RA']=x\n",
    "df['DEC']=y"
   ]
  },
  {
   "cell_type": "code",
   "execution_count": null,
   "id": "7b5af668",
   "metadata": {},
   "outputs": [],
   "source": []
  },
  {
   "cell_type": "code",
   "execution_count": null,
   "id": "63b63ddb",
   "metadata": {
    "scrolled": true
   },
   "outputs": [],
   "source": [
    "plt.scatter(df['RA'],df['DEC'])\n",
    "xticks = [159.131, 159.135, 159.140, 159.145, 159.150, 159.155, 159.160, 159.165]\n",
    "xtick_labels = [f'{x:.3f}' for x in xticks]\n",
    "\n",
    "plt.xticks(xticks, xtick_labels, rotation=45) \n",
    "\n",
    "plt.xticks(xticks, xtick_labels)\n",
    "plt.xlabel('RA')\n",
    "plt.ylabel('DEC')\n",
    "plt.gca().invert_xaxis()"
   ]
  },
  {
   "cell_type": "markdown",
   "id": "45708190",
   "metadata": {},
   "source": [
    "# 7.Conversion of flux into magnitudes"
   ]
  },
  {
   "cell_type": "code",
   "execution_count": null,
   "id": "6d117540",
   "metadata": {},
   "outputs": [],
   "source": [
    "df['magVega']= (-2.5*(np.log10(df['Corrected_sum']/header['PHOTMJSR'])))+23.93"
   ]
  },
  {
   "cell_type": "code",
   "execution_count": null,
   "id": "f9a933a4",
   "metadata": {},
   "outputs": [],
   "source": [
    "plt.hist(df['magVega'])"
   ]
  },
  {
   "cell_type": "code",
   "execution_count": null,
   "id": "0c0421c9",
   "metadata": {},
   "outputs": [],
   "source": []
  }
 ],
 "metadata": {
  "kernelspec": {
   "display_name": "Python 3 (ipykernel)",
   "language": "python",
   "name": "python3"
  },
  "language_info": {
   "codemirror_mode": {
    "name": "ipython",
    "version": 3
   },
   "file_extension": ".py",
   "mimetype": "text/x-python",
   "name": "python",
   "nbconvert_exporter": "python",
   "pygments_lexer": "ipython3",
   "version": "3.8.10"
  }
 },
 "nbformat": 4,
 "nbformat_minor": 5
}
